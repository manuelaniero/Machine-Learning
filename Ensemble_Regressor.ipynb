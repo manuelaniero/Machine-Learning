{
  "nbformat": 4,
  "nbformat_minor": 0,
  "metadata": {
    "colab": {
      "provenance": [],
      "collapsed_sections": [
        "yGbKs--ZXx55",
        "yz4jrO49YRSF",
        "Slr6GurbZlDU",
        "F-6eoeuPacCa",
        "bpllyhKSTtO6",
        "wDjGO6YlT8-J",
        "weWCNVC2UCE4",
        "lI47ew6VUa6w"
      ]
    },
    "kernelspec": {
      "name": "python3",
      "display_name": "Python 3"
    },
    "language_info": {
      "name": "python"
    }
  },
  "cells": [
    {
      "cell_type": "code",
      "source": [
        "!pip install catboost"
      ],
      "metadata": {
        "collapsed": true,
        "id": "a-VtPkYcZ8Y6"
      },
      "execution_count": null,
      "outputs": []
    },
    {
      "cell_type": "markdown",
      "source": [
        "## **DataSet**"
      ],
      "metadata": {
        "id": "yGbKs--ZXx55"
      }
    },
    {
      "cell_type": "code",
      "execution_count": null,
      "metadata": {
        "id": "VIDAmtvuVUtK"
      },
      "outputs": [],
      "source": [
        "import pandas as pd\n",
        "import numpy as np\n",
        "import seaborn as sns\n",
        "import matplotlib.pyplot as plt\n",
        "from sklearn.model_selection import train_test_split\n",
        "from sklearn.ensemble import RandomForestRegressor, GradientBoostingRegressor, ExtraTreesRegressor, AdaBoostRegressor\n",
        "from sklearn.metrics import mean_squared_error, r2_score, mean_absolute_error\n",
        "\n",
        "from xgboost import XGBRegressor\n",
        "from lightgbm import LGBMRegressor\n",
        "\n",
        "import warnings\n",
        "warnings.filterwarnings(\"ignore\")"
      ]
    },
    {
      "cell_type": "code",
      "source": [
        "pd.set_option('display.max_columns', None)"
      ],
      "metadata": {
        "id": "dnLHSAyYgI0o"
      },
      "execution_count": null,
      "outputs": []
    },
    {
      "cell_type": "code",
      "source": [
        "carPrice = pd.read_csv('/content/drive/MyDrive/Estudos Manu + Rodriguinho/2° ano/Machine Learning/Abril/03.04/CarPrice_Assignment(1).csv')"
      ],
      "metadata": {
        "id": "MwQexQapV1wR"
      },
      "execution_count": null,
      "outputs": []
    },
    {
      "cell_type": "markdown",
      "source": [
        "## **Análise Exploratória**"
      ],
      "metadata": {
        "id": "yz4jrO49YRSF"
      }
    },
    {
      "cell_type": "code",
      "source": [
        "carPrice.sample(5)"
      ],
      "metadata": {
        "id": "gKj61PJ4X6BW"
      },
      "execution_count": null,
      "outputs": []
    },
    {
      "cell_type": "code",
      "source": [
        "carPrice.info()"
      ],
      "metadata": {
        "collapsed": true,
        "id": "xkC_kNeOX-VV"
      },
      "execution_count": null,
      "outputs": []
    },
    {
      "cell_type": "code",
      "source": [
        "# Verificando a existência de nulos\n",
        "carPrice.isnull().sum()"
      ],
      "metadata": {
        "collapsed": true,
        "id": "tEJ3Md8DYLhm"
      },
      "execution_count": null,
      "outputs": []
    },
    {
      "cell_type": "code",
      "source": [
        "carPrice.describe()"
      ],
      "metadata": {
        "collapsed": true,
        "id": "Rtq2G8gmYkH_"
      },
      "execution_count": null,
      "outputs": []
    },
    {
      "cell_type": "markdown",
      "source": [
        "## **Exploração Gráfica**"
      ],
      "metadata": {
        "id": "Slr6GurbZlDU"
      }
    },
    {
      "cell_type": "code",
      "source": [
        "# Verificando a distruição da variável target\n",
        "sns.histplot(carPrice[\"price\"])\n",
        "\n",
        "plt.xlabel('Price')\n",
        "plt.ylabel('Ocorrências')\n",
        "plt.title('Histograma com Seaborn')\n",
        "plt.show()"
      ],
      "metadata": {
        "id": "ylfJD9L8Y7is"
      },
      "execution_count": null,
      "outputs": []
    },
    {
      "cell_type": "code",
      "source": [
        "# Verificando a correlação entre as variáveis\n",
        "num_cols = carPrice.select_dtypes(include=['int64', 'float64']).columns\n",
        "correlacao = carPrice[num_cols].corr()\n",
        "\n",
        "# Criando o heatmap\n",
        "plt.figure(figsize=(8,6))\n",
        "sns.heatmap(correlacao, annot=True, cmap='coolwarm', fmt=\".2f\", linewidths=0.5)\n",
        "\n",
        "# Personalizando o gráfico\n",
        "plt.title(\"Matriz de Correlação\")\n",
        "plt.show()"
      ],
      "metadata": {
        "id": "gugmQxYrZzGO"
      },
      "execution_count": null,
      "outputs": []
    },
    {
      "cell_type": "markdown",
      "source": [
        "## **Treinando modelos e escolhendo variáveis**"
      ],
      "metadata": {
        "id": "F-6eoeuPacCa"
      }
    },
    {
      "cell_type": "code",
      "source": [
        "def assertividade(y_test, y_pred):\n",
        "    mse = mean_squared_error(y_test, y_pred)\n",
        "    mae = mean_absolute_error(y_test, y_pred)\n",
        "    rmse = np.sqrt(mse)\n",
        "    mape = np.mean(np.abs((y_test - y_pred) / y_test)) * 100\n",
        "    r2 = r2_score(y_test, y_pred)\n",
        "\n",
        "    return {\n",
        "        \"MSE\": mse,\n",
        "        \"MAE\": mae,\n",
        "        \"RMSE\": rmse,\n",
        "        \"MAPE\": mape,\n",
        "        \"R²\": r2\n",
        "    }"
      ],
      "metadata": {
        "id": "WedRjhwRbcly"
      },
      "execution_count": null,
      "outputs": []
    },
    {
      "cell_type": "code",
      "source": [
        "X = carPrice[num_cols].drop(['price', 'car_ID'], axis=1)\n",
        "y = carPrice['price']"
      ],
      "metadata": {
        "id": "lB2Aeb6daVtm"
      },
      "execution_count": null,
      "outputs": []
    },
    {
      "cell_type": "code",
      "source": [
        "X_train, X_test, y_train, y_test = train_test_split(X, y, test_size=0.3, random_state=42) #Separando entre treino e teste"
      ],
      "metadata": {
        "id": "imxvPBN8a-_W"
      },
      "execution_count": null,
      "outputs": []
    },
    {
      "cell_type": "markdown",
      "source": [
        "### **Bagging models**"
      ],
      "metadata": {
        "id": "bpllyhKSTtO6"
      }
    },
    {
      "cell_type": "markdown",
      "source": [
        "#### **Random Forest**"
      ],
      "metadata": {
        "id": "wDjGO6YlT8-J"
      }
    },
    {
      "cell_type": "code",
      "source": [
        "rf_model = RandomForestRegressor(n_estimators=100, random_state=42)"
      ],
      "metadata": {
        "id": "v2m090jLa-8c"
      },
      "execution_count": null,
      "outputs": []
    },
    {
      "cell_type": "code",
      "source": [
        "rf_model.fit(X_train, y_train)"
      ],
      "metadata": {
        "id": "LIsnvriEboGp"
      },
      "execution_count": null,
      "outputs": []
    },
    {
      "cell_type": "code",
      "source": [
        "y_pred = rf_model.predict(X_test)"
      ],
      "metadata": {
        "id": "H99Jm58objGL"
      },
      "execution_count": null,
      "outputs": []
    },
    {
      "cell_type": "code",
      "source": [
        "assertividade(y_test, y_pred)"
      ],
      "metadata": {
        "id": "ctzj-GbkaIoG"
      },
      "execution_count": null,
      "outputs": []
    },
    {
      "cell_type": "markdown",
      "source": [
        "#### **Extra Tree Regressor**"
      ],
      "metadata": {
        "id": "weWCNVC2UCE4"
      }
    },
    {
      "cell_type": "code",
      "source": [
        "et_model = ExtraTreesRegressor(n_estimators=100, random_state=42)"
      ],
      "metadata": {
        "id": "IoIlHhWAUJcw"
      },
      "execution_count": null,
      "outputs": []
    },
    {
      "cell_type": "code",
      "source": [
        "et_model.fit(X_train, y_train)"
      ],
      "metadata": {
        "id": "bdkyrRuIURMR"
      },
      "execution_count": null,
      "outputs": []
    },
    {
      "cell_type": "code",
      "source": [
        "y_pred = et_model.predict(X_test)"
      ],
      "metadata": {
        "id": "6kssP38cUXgg"
      },
      "execution_count": null,
      "outputs": []
    },
    {
      "cell_type": "code",
      "source": [
        "assertividade(y_test, y_pred)"
      ],
      "metadata": {
        "id": "MbIr8XqnUYVA"
      },
      "execution_count": null,
      "outputs": []
    },
    {
      "cell_type": "markdown",
      "source": [
        "### **Boosting models**"
      ],
      "metadata": {
        "id": "lI47ew6VUa6w"
      }
    },
    {
      "cell_type": "markdown",
      "source": [
        "#### **Gradient Boost Regressor**"
      ],
      "metadata": {
        "id": "whiEZjKtVzhK"
      }
    },
    {
      "cell_type": "code",
      "source": [
        "gb_model = GradientBoostingRegressor(n_estimators=100, random_state=42)"
      ],
      "metadata": {
        "id": "oU_JhFq2UaiI"
      },
      "execution_count": null,
      "outputs": []
    },
    {
      "cell_type": "code",
      "source": [
        "gb_model.fit(X_train, y_train)"
      ],
      "metadata": {
        "id": "DJoccFf3V98B"
      },
      "execution_count": null,
      "outputs": []
    },
    {
      "cell_type": "code",
      "source": [
        "y_pred = gb_model.predict(X_test)"
      ],
      "metadata": {
        "id": "3LBm-lLHV_mQ"
      },
      "execution_count": null,
      "outputs": []
    },
    {
      "cell_type": "code",
      "source": [
        "assertividade(y_test, y_pred)"
      ],
      "metadata": {
        "id": "BC4NRUJOWBLQ"
      },
      "execution_count": null,
      "outputs": []
    },
    {
      "cell_type": "markdown",
      "source": [
        "#### **Ada Boost Regressor**"
      ],
      "metadata": {
        "id": "JiFuR9OzWErA"
      }
    },
    {
      "cell_type": "code",
      "source": [
        "ada_model = AdaBoostRegressor(n_estimators=100, random_state=42)"
      ],
      "metadata": {
        "id": "vLp1g-mmWPoJ"
      },
      "execution_count": null,
      "outputs": []
    },
    {
      "cell_type": "code",
      "source": [
        "ada_model.fit(X_train, y_train)"
      ],
      "metadata": {
        "id": "9I8_ParsWUnA"
      },
      "execution_count": null,
      "outputs": []
    },
    {
      "cell_type": "code",
      "source": [
        "y_pred = ada_model.predict(X_test)"
      ],
      "metadata": {
        "id": "iOD3xmw0WWkQ"
      },
      "execution_count": null,
      "outputs": []
    },
    {
      "cell_type": "code",
      "source": [
        "assertividade(y_test, y_pred)"
      ],
      "metadata": {
        "id": "3BvVeCiLWYVo"
      },
      "execution_count": null,
      "outputs": []
    },
    {
      "cell_type": "markdown",
      "source": [
        "#### **XGBoost Regressor**"
      ],
      "metadata": {
        "id": "3vTE07ItWgox"
      }
    },
    {
      "cell_type": "code",
      "source": [
        "xgb_model = XGBRegressor(n_estimators=100, random_state=42)"
      ],
      "metadata": {
        "id": "jC7mZ6qDWmrh"
      },
      "execution_count": null,
      "outputs": []
    },
    {
      "cell_type": "code",
      "source": [
        "xgb_model.fit(X_train, y_train)"
      ],
      "metadata": {
        "id": "H-Mjmzx9WpzA"
      },
      "execution_count": null,
      "outputs": []
    },
    {
      "cell_type": "code",
      "source": [
        "y_pred = xgb_model.predict(X_test)"
      ],
      "metadata": {
        "id": "aUA2DRutWsYI"
      },
      "execution_count": null,
      "outputs": []
    },
    {
      "cell_type": "code",
      "source": [
        "assertividade(y_test, y_pred)"
      ],
      "metadata": {
        "id": "OpKnbphrWvV6"
      },
      "execution_count": null,
      "outputs": []
    },
    {
      "cell_type": "markdown",
      "source": [
        "#### **LightGBM Regressor**"
      ],
      "metadata": {
        "id": "HtZSjahPWyRQ"
      }
    },
    {
      "cell_type": "code",
      "source": [
        "lgbm_model = LGBMRegressor(n_estimators=100, random_state=42)"
      ],
      "metadata": {
        "id": "ELjHoJtUW3kh"
      },
      "execution_count": null,
      "outputs": []
    },
    {
      "cell_type": "code",
      "source": [
        "lgbm_model.fit(X_train, y_train)"
      ],
      "metadata": {
        "collapsed": true,
        "id": "4x_dLCV-W5yB"
      },
      "execution_count": null,
      "outputs": []
    },
    {
      "cell_type": "code",
      "source": [
        "y_pred = lgbm_model.predict(X_test)"
      ],
      "metadata": {
        "id": "DVJiiz0nW974"
      },
      "execution_count": null,
      "outputs": []
    },
    {
      "cell_type": "code",
      "source": [
        "assertividade(y_test, y_pred)"
      ],
      "metadata": {
        "id": "F0OwcGsXXAgK"
      },
      "execution_count": null,
      "outputs": []
    },
    {
      "cell_type": "markdown",
      "source": [],
      "metadata": {
        "id": "1IZjiiqqXDRD"
      }
    }
  ]
}